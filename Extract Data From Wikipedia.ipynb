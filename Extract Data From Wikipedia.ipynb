{
 "cells": [
  {
   "cell_type": "code",
   "execution_count": null,
   "metadata": {},
   "outputs": [],
   "source": [
    "#pip install wikipedia"
   ]
  },
  {
   "cell_type": "code",
   "execution_count": 42,
   "metadata": {},
   "outputs": [],
   "source": [
    "import wikipedia"
   ]
  },
  {
   "cell_type": "code",
   "execution_count": 46,
   "metadata": {},
   "outputs": [
    {
     "name": "stdout",
     "output_type": "stream",
     "text": [
      "<bound method WikipediaPage.html of <WikipediaPage 'Egypt'>>\n",
      "Egypt\n",
      "['+20', '.eg', '10th G-15 summit', '10th Summit of the Non-Aligned Movement', '10th millennium BCE', '11th G-15 summit', '12th G-15 summit', '13th G-15 summit', '14th G-15 summit', '15th G-15 summit']\n"
     ]
    }
   ],
   "source": [
    "page = wikipedia.page(\"Egypt\")\n",
    "\n",
    "print(page.html)\n",
    "print(page.original_title)\n",
    "print(page.links[0:10])\n"
   ]
  },
  {
   "cell_type": "code",
   "execution_count": 47,
   "metadata": {},
   "outputs": [
    {
     "name": "stdout",
     "output_type": "stream",
     "text": [
      "مِصرُ و (رسميًّا: جُمْهُورِيّةُ مِصْرَ العَرَبيّةِ) هي دولة عربية تقع في الركن الشمالي الشرقي من قارة أفريقيا، ولديها امتداد آسيوي، حيث تقع شبه جزيرة سيناء داخل قارة آسيا فهي دولة عابرة للقارات، قُدّر عدد سكانها بــ103 ملايين نسمة، ليكون ترتيبها الثالثة عشر بين دول العالم بعدد السكان والأكثر سكاناً عربيًّا. يحدها شمالاً البحر المتوسط و جنوباً السودان و شرقاً البحر الأحمر و من الشمال الشرقي قطاع غزة والأراضي المحتلة (إسرائيل) وغرباً ليبيا، تبلغ مساحة جمهورية مصر العربية حوالي 1,002,000 كيلومتر مربع. والمساحة المأهولة تبلغ 78,990 كم2 بنسبة 7.8% من المساحة الكلية. وتُقسم مصر إداريًّا إلى 27 محافظة، وتنقسم كل محافظة إلى تقسيمات إدارية أصغر وهي المراكز أو الأقسام.ويتركز أغلب سكان مصر في وادي النيل وفي الحضر ويشكل وادي النيل والدلتا أقل من 4% من المساحة الكلية للبلاد أي حوالي 33000 كم2، وأكبر الكتل السكانية هي القاهرة الكبرى التي بها تقريبًا ربع السكان، تليها الإسكندرية؛ كما يعيش أغلب السكان الباقين في الدلتا وعلى ساحلي البحر المتوسط والبحر الأحمر ومدن قناة السويس، وتشغل هذه المناطق ما مساحته 40 ألف كيلومتر مربع. بينما تشكل الصحراء غير المعمورة غالبية مساحة البلاد.تشتهر مصر بأن بها إحدى أقدم الحضارات على وجه الأرض حيث بدأ البشر بالنزوح إلى ضفاف النيل والاستقرار وبدأ في زراعة الأرض وتربية الماشية منذ نحو 10,000 سنة.\n",
      "وتطور أهلها سريعًا وبدأت فيها صناعات بسيطة وتطور نسيجها الاجتماعي المترابط، وكوّنوا إمارات متجاورة مسالمة على ضفاف النيل تتبادل التجارة، سابقة في ذلك كل بلاد العالم. تشهد على ذلك حضارة البداري منذ نحو 7000 سنة وحضارة نقادة (4400 سنة قبل الميلاد - نحو 3000 سنة قبل الميلاد). وكان التطور الطبيعي لها أن تندمج مع بعضها البعض شمالًا وجنوبًا وتوحيد الوجهين القبلي والبحري وبدأ الحكم المركزي الممثل في بدء عصر الأسرات (نحو 3000 سنة قبل الميلاد). وتبادلت التجارة مع جيرانها حيث تعد مصر من أوائل الدول التجارية. وكان لابتكار الكتابة في مصر أثرًا كبيرًا على مسيرة الحياة في البلاد وتطورها السريع، وكان المصري القديم مولعًا بالكتابة، كذلك شهدت مصر القديمة تطورًا في مجالات الطب والهندسة والحساب.\n",
      "تواكبت على مصر العديد من العصور والحقب التاريخية، مرورًا بالفرس (نحو 343 قبل الميلاد) ثم قدوم الإسكندر الأكبر (323 قبل الميلاد) والذي تأسست بعده الدولة البطلمية، وبعدها غزاها الرومان (31 قبل الميلاد) وظلت تحت حكمهم 600 عام. وفي فترة حكم الرومان شهدت مصر ظهور المسيحية وانتشارها في مصر، وبعدها جاء الفتح الإسلامي (نحو 639 بعد الميلاد) وتحولت مصر إلى دولة إسلامية. وتأسست في مصر العديد من الدول مثل: الدولة الطولونية ثم الإخشيدية ثم الفاطمية ثم الأيوبية ثم المماليك، وبعدها أصبحت تحت حكم العثمانيين حتى عام 1914 عندما أعلنت السلطنة، ثم تحولت إلى مملكة (1922)، ثم تحولت بعد ذلك إلى جمهورية (1954).\n",
      "تشتهر مصر بالعديد من الآثار حيث يوجد بها ثلث آثار العالم، مثل أهرام الجيزة وأبي الهول، ومعبد الكرنك والدير البحري ووادي الملوك وآثارها القديمة الأخرى، مثل الموجودة في مدينة منف وطيبة والكرنك، ويُعرض بعض من هذه الآثار في المتاحف الكبرى في جميع أنحاء العالم. وقد وجد علم خاص بدراسة آثار مصر سمي بعلم المصريات، وكذلك هناك الآثار الرومانية والإغريقية والقبطية والإسلامية بمختلف عصورها.\n",
      "تعد اللغة المصرية القديمة من أقدم لغات العالم واستمرت أكثر من 3000 سنة، واخترع المصريون القدماء الكتابة الهيروغليفية.\n",
      "تعد اللغة العربية هي اللغة الرسمية لها، ووفقًا للدستور الدين الرسميّ الإسلام، ونظام الحكم فيها جمهوري ديمقراطي. وتُعد مصر من الأعضاء المؤسسين لجامعة الدول العربية ويوجد بها المقر الرئيسي لها، كذلك تعد من الأعضاء المؤسسين للأمم المتحدة حيث انضمت لها عام 1945، بالإضافة إلى عضويتها بالاتحاد الأفريقي، وكذلك تعد مصر عضوًا في العديد من الاتحادات والمنظمات الدولية، ولديها العديد من العلاقات الدبلوماسية مع أغلب دول العالم. في 2016، أخذت مصر مركز جنوب أفريقيا لتصبح ثاني أكبر اقتصاد في إفريقيا (بعد نيجيريا).\n"
     ]
    }
   ],
   "source": [
    "wikipedia.set_lang(\"ar\")\n",
    "print(wikipedia.summary(\"مصر\"))"
   ]
  },
  {
   "cell_type": "code",
   "execution_count": null,
   "metadata": {},
   "outputs": [],
   "source": [
    "input_text = input('Enter text for search :')\n",
    "print('Your input :',input_text)\n",
    "summary_text = wikipedia.summary(input_text , sentences = 2)\n",
    "print(summary_text)"
   ]
  },
  {
   "cell_type": "code",
   "execution_count": null,
   "metadata": {},
   "outputs": [],
   "source": [
    "def search_wikioedia (sents = 3) :\n",
    "    input_text = input('Enter text for search :')\n",
    "    print('Your input :',input_text)\n",
    "    topics = wikipedia.search(input_text)\n",
    "    \n",
    "    for i in range (len(topics)) :\n",
    "        print(i+1 , ':' ,topics[i])\n",
    "    \n",
    "    search_digit = int(input('Witch topic do you want to search :'))\n",
    "    print('Your input : Num',search_digit)\n",
    "    print('-'*30)    \n",
    "        \n",
    "    search_text = wikipedia.summary(topics[search_digit-1] , sentences = sents)\n",
    "    print(search_text)   \n",
    "\n",
    " \n",
    "search_wikioedia(10)     "
   ]
  },
  {
   "cell_type": "code",
   "execution_count": 40,
   "metadata": {},
   "outputs": [
    {
     "name": "stdout",
     "output_type": "stream",
     "text": [
      "Your input : Augustus\n",
      "1 : Augustus\n",
      "2 : Tiberius\n",
      "3 : Augustus II the Strong\n",
      "4 : Augustus Prew\n",
      "5 : Augustus (title)\n",
      "6 : Augustus John\n",
      "7 : Sherman Augustus\n",
      "8 : Constantine the Great\n",
      "9 : Augustus (disambiguation)\n",
      "10 : Ponte di Tiberio (Rimini)\n",
      "\n",
      "You select : Num 1\n"
     ]
    }
   ],
   "source": [
    "def save_data(sents = 3) :     \n",
    "    input_text = input('Enter text for search :').capitalize()\n",
    "    print('Your input :',input_text)\n",
    "    topics = wikipedia.search(input_text)\n",
    "    \n",
    "    for i in range (len(topics)) :\n",
    "        print(i+1 , ':' ,topics[i])\n",
    "    \n",
    "    search_digit = int(input('Witch topic do you want to search :'))\n",
    "    print('\\nYou select : Num',search_digit)\n",
    "        \n",
    "    search_text = wikipedia.summary(topics[search_digit-1] , sentences = sents)\n",
    "    \n",
    "    with open(f'{input_text}.txt','+a') as f :\n",
    "        f.writelines(search_text)\n",
    "        f.close()\n",
    " \n",
    "save_data(10)     \n",
    "     "
   ]
  }
 ],
 "metadata": {
  "kernelspec": {
   "display_name": "Python 3.8.8 ('base')",
   "language": "python",
   "name": "python3"
  },
  "language_info": {
   "codemirror_mode": {
    "name": "ipython",
    "version": 3
   },
   "file_extension": ".py",
   "mimetype": "text/x-python",
   "name": "python",
   "nbconvert_exporter": "python",
   "pygments_lexer": "ipython3",
   "version": "3.8.8"
  },
  "orig_nbformat": 4,
  "vscode": {
   "interpreter": {
    "hash": "53d50ed1839d2292cfd39f0644d59e889da85062f836d8db82f8d3a293c0c3a5"
   }
  }
 },
 "nbformat": 4,
 "nbformat_minor": 2
}
